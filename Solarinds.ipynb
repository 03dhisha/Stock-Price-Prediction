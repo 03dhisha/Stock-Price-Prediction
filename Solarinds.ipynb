{
 "cells": [
  {
   "cell_type": "code",
   "execution_count": 1,
   "id": "cffa6546-de5a-4c00-9e24-8fbe25f11e50",
   "metadata": {},
   "outputs": [
    {
     "name": "stdout",
     "output_type": "stream",
     "text": [
      "WARNING:tensorflow:From C:\\Users\\dhishadhruthi\\anaconda3\\lib\\site-packages\\keras\\src\\losses.py:2976: The name tf.losses.sparse_softmax_cross_entropy is deprecated. Please use tf.compat.v1.losses.sparse_softmax_cross_entropy instead.\n",
      "\n"
     ]
    }
   ],
   "source": [
    "import numpy as np\n",
    "import pandas as pd\n",
    "import matplotlib.pyplot as plt\n",
    "from sklearn.preprocessing import MinMaxScaler\n",
    "from keras.models import Sequential\n",
    "from keras.layers import Dense, LSTM, Dropout\n",
    "\n",
    "#for warnings\n",
    "import warnings\n",
    "warnings.filterwarnings('ignore')"
   ]
  },
  {
   "cell_type": "code",
   "execution_count": 2,
   "id": "d1573cb9-0aae-4aaf-ae6a-452becb0d024",
   "metadata": {},
   "outputs": [],
   "source": [
    "#load data\n",
    "data = pd.read_csv('train.csv')"
   ]
  },
  {
   "cell_type": "code",
   "execution_count": 3,
   "id": "b3c7599d-66a4-4d23-8da0-325a6338942e",
   "metadata": {},
   "outputs": [
    {
     "name": "stdout",
     "output_type": "stream",
     "text": [
      "<class 'pandas.core.frame.DataFrame'>\n",
      "RangeIndex: 700 entries, 0 to 699\n",
      "Data columns (total 7 columns):\n",
      " #   Column     Non-Null Count  Dtype  \n",
      "---  ------     --------------  -----  \n",
      " 0   Date       700 non-null    object \n",
      " 1   Open       700 non-null    float64\n",
      " 2   High       700 non-null    float64\n",
      " 3   Low        700 non-null    float64\n",
      " 4   Close      700 non-null    float64\n",
      " 5   Adj Close  700 non-null    float64\n",
      " 6   Volume     700 non-null    int64  \n",
      "dtypes: float64(5), int64(1), object(1)\n",
      "memory usage: 38.4+ KB\n"
     ]
    }
   ],
   "source": [
    "#understanding the data\n",
    "data.info()"
   ]
  },
  {
   "cell_type": "code",
   "execution_count": 4,
   "id": "a13c144b-de63-4dc6-86d2-7b154b32598e",
   "metadata": {},
   "outputs": [
    {
     "name": "stdout",
     "output_type": "stream",
     "text": [
      "(700, 7)\n"
     ]
    }
   ],
   "source": [
    "# getting the shape of the data\n",
    "print(data.shape)"
   ]
  },
  {
   "cell_type": "code",
   "execution_count": 5,
   "id": "dd532390-3153-4327-bd4c-196243dbe306",
   "metadata": {},
   "outputs": [
    {
     "data": {
      "text/plain": [
       "Date    700\n",
       "dtype: int64"
      ]
     },
     "execution_count": 5,
     "metadata": {},
     "output_type": "execute_result"
    }
   ],
   "source": [
    "#check the no. of unique items present in the categorical column\n",
    "data.select_dtypes('object').nunique()"
   ]
  },
  {
   "cell_type": "code",
   "execution_count": 6,
   "id": "2061712f-3b7f-4092-8a30-5c7eb9843c36",
   "metadata": {},
   "outputs": [
    {
     "name": "stdout",
     "output_type": "stream",
     "text": [
      "Date         0.0\n",
      "Open         0.0\n",
      "High         0.0\n",
      "Low          0.0\n",
      "Close        0.0\n",
      "Adj Close    0.0\n",
      "Volume       0.0\n",
      "dtype: float64\n"
     ]
    }
   ],
   "source": [
    "#check the percentage of missing data in each columns present in the data\n",
    "no_of_columns = data.shape[0]\n",
    "percentage_of_missing_data = data.isnull().sum()/no_of_columns\n",
    "print(percentage_of_missing_data)"
   ]
  },
  {
   "cell_type": "code",
   "execution_count": 7,
   "id": "44e734f3-818c-4869-9993-d0703bbe3038",
   "metadata": {},
   "outputs": [],
   "source": [
    "data[\"close\"]=pd.to_numeric(data.Close, errors='coerce')\n",
    "data = data.dropna()\n",
    "train_data= data.iloc[:,4:5].values"
   ]
  },
  {
   "cell_type": "code",
   "execution_count": 8,
   "id": "a7ac80e8-1553-45b6-8acf-cb25bea1bcf8",
   "metadata": {},
   "outputs": [
    {
     "name": "stdout",
     "output_type": "stream",
     "text": [
      "<class 'pandas.core.frame.DataFrame'>\n",
      "RangeIndex: 700 entries, 0 to 699\n",
      "Data columns (total 8 columns):\n",
      " #   Column     Non-Null Count  Dtype  \n",
      "---  ------     --------------  -----  \n",
      " 0   Date       700 non-null    object \n",
      " 1   Open       700 non-null    float64\n",
      " 2   High       700 non-null    float64\n",
      " 3   Low        700 non-null    float64\n",
      " 4   Close      700 non-null    float64\n",
      " 5   Adj Close  700 non-null    float64\n",
      " 6   Volume     700 non-null    int64  \n",
      " 7   close      700 non-null    float64\n",
      "dtypes: float64(6), int64(1), object(1)\n",
      "memory usage: 43.9+ KB\n"
     ]
    }
   ],
   "source": [
    "data.info()"
   ]
  },
  {
   "cell_type": "code",
   "execution_count": 9,
   "id": "bdcc7371-6cb5-42f5-a454-6a449d77b765",
   "metadata": {},
   "outputs": [
    {
     "data": {
      "text/plain": [
       "(700, 1)"
      ]
     },
     "execution_count": 9,
     "metadata": {},
     "output_type": "execute_result"
    }
   ],
   "source": [
    "sc = MinMaxScaler(feature_range = (0,1))\n",
    "train_data = sc.fit_transform(train_data)\n",
    "train_data.shape"
   ]
  },
  {
   "cell_type": "code",
   "execution_count": 10,
   "id": "e652ad5f-0d6a-45c4-82f8-c9ee73d5dbdc",
   "metadata": {},
   "outputs": [],
   "source": [
    "x_train = []\n",
    "y_train = []"
   ]
  },
  {
   "cell_type": "code",
   "execution_count": 11,
   "id": "c2bb2ca8-0f1c-4522-af32-83b701bcf315",
   "metadata": {},
   "outputs": [],
   "source": [
    "for i in range (60,700):\n",
    "    x_train.append(train_data[i-60:i,0])\n",
    "    y_train.append(train_data[i,0])\n",
    "x_train,y_train = np.array(x_train),np.array(y_train)"
   ]
  },
  {
   "cell_type": "code",
   "execution_count": 12,
   "id": "7d52f628-cfdb-4dd3-873d-cdb7b477d026",
   "metadata": {},
   "outputs": [
    {
     "data": {
      "text/plain": [
       "(640, 60, 1)"
      ]
     },
     "execution_count": 12,
     "metadata": {},
     "output_type": "execute_result"
    }
   ],
   "source": [
    "x_train = np.reshape(x_train,(x_train.shape[0],x_train.shape[1],1))\n",
    "x_train.shape"
   ]
  },
  {
   "cell_type": "code",
   "execution_count": 13,
   "id": "61d9645e-2c97-468e-b30f-8e07c9c8f927",
   "metadata": {},
   "outputs": [
    {
     "name": "stdout",
     "output_type": "stream",
     "text": [
      "WARNING:tensorflow:From C:\\Users\\dhishadhruthi\\anaconda3\\lib\\site-packages\\keras\\src\\backend.py:873: The name tf.get_default_graph is deprecated. Please use tf.compat.v1.get_default_graph instead.\n",
      "\n",
      "WARNING:tensorflow:From C:\\Users\\dhishadhruthi\\anaconda3\\lib\\site-packages\\keras\\src\\optimizers\\__init__.py:309: The name tf.train.Optimizer is deprecated. Please use tf.compat.v1.train.Optimizer instead.\n",
      "\n"
     ]
    }
   ],
   "source": [
    "model = Sequential()\n",
    "\n",
    "model.add(LSTM(units=100, return_sequences = True, input_shape = (x_train.shape[1],1)))\n",
    "model.add(Dropout(0.2))\n",
    "\n",
    "model.add(LSTM(units=100, return_sequences = True))\n",
    "model.add(Dropout(0.2))\n",
    "\n",
    "model.add(LSTM(units=100, return_sequences = False))\n",
    "model.add(Dropout(0.2))\n",
    "\n",
    "model.add(Dense(units = 1))\n",
    "model.compile(optimizer='adam', loss='mean_squared_error')"
   ]
  },
  {
   "cell_type": "code",
   "execution_count": 14,
   "id": "568f19d2-3462-414d-9732-d68b7be95821",
   "metadata": {},
   "outputs": [
    {
     "name": "stdout",
     "output_type": "stream",
     "text": [
      "Epoch 1/20\n",
      "WARNING:tensorflow:From C:\\Users\\dhishadhruthi\\anaconda3\\lib\\site-packages\\keras\\src\\utils\\tf_utils.py:492: The name tf.ragged.RaggedTensorValue is deprecated. Please use tf.compat.v1.ragged.RaggedTensorValue instead.\n",
      "\n",
      "20/20 - 17s - loss: 0.0279 - 17s/epoch - 848ms/step\n",
      "Epoch 2/20\n",
      "20/20 - 3s - loss: 0.0041 - 3s/epoch - 131ms/step\n",
      "Epoch 3/20\n",
      "20/20 - 3s - loss: 0.0035 - 3s/epoch - 134ms/step\n",
      "Epoch 4/20\n",
      "20/20 - 3s - loss: 0.0026 - 3s/epoch - 131ms/step\n",
      "Epoch 5/20\n",
      "20/20 - 3s - loss: 0.0027 - 3s/epoch - 135ms/step\n",
      "Epoch 6/20\n",
      "20/20 - 3s - loss: 0.0026 - 3s/epoch - 136ms/step\n",
      "Epoch 7/20\n",
      "20/20 - 3s - loss: 0.0020 - 3s/epoch - 136ms/step\n",
      "Epoch 8/20\n",
      "20/20 - 3s - loss: 0.0030 - 3s/epoch - 130ms/step\n",
      "Epoch 9/20\n",
      "20/20 - 3s - loss: 0.0025 - 3s/epoch - 132ms/step\n",
      "Epoch 10/20\n",
      "20/20 - 3s - loss: 0.0019 - 3s/epoch - 131ms/step\n",
      "Epoch 11/20\n",
      "20/20 - 3s - loss: 0.0023 - 3s/epoch - 134ms/step\n",
      "Epoch 12/20\n",
      "20/20 - 3s - loss: 0.0028 - 3s/epoch - 130ms/step\n",
      "Epoch 13/20\n",
      "20/20 - 3s - loss: 0.0027 - 3s/epoch - 130ms/step\n",
      "Epoch 14/20\n",
      "20/20 - 3s - loss: 0.0021 - 3s/epoch - 143ms/step\n",
      "Epoch 15/20\n",
      "20/20 - 3s - loss: 0.0025 - 3s/epoch - 148ms/step\n",
      "Epoch 16/20\n",
      "20/20 - 3s - loss: 0.0021 - 3s/epoch - 125ms/step\n",
      "Epoch 17/20\n",
      "20/20 - 3s - loss: 0.0023 - 3s/epoch - 127ms/step\n",
      "Epoch 18/20\n",
      "20/20 - 3s - loss: 0.0021 - 3s/epoch - 133ms/step\n",
      "Epoch 19/20\n",
      "20/20 - 3s - loss: 0.0022 - 3s/epoch - 150ms/step\n",
      "Epoch 20/20\n",
      "20/20 - 3s - loss: 0.0020 - 3s/epoch - 134ms/step\n"
     ]
    }
   ],
   "source": [
    "#train recurrent neural network (RNN) model\n",
    "hist = model.fit(x_train, y_train, epochs = 20, batch_size = 32, verbose = 2)"
   ]
  },
  {
   "cell_type": "code",
   "execution_count": 15,
   "id": "414c219b-5e0d-4f05-8e9b-80515b0e7565",
   "metadata": {},
   "outputs": [
    {
     "data": {
      "image/png": "[encoded data removed]",
      "text/plain": [
       "<Figure size 640x480 with 1 Axes>"
      ]
     },
     "metadata": {},
     "output_type": "display_data"
    }
   ],
   "source": [
    "plt.plot(hist.history['loss'])\n",
    "plt.title('Training model loss')\n",
    "plt.ylabel('loss')\n",
    "plt.xlabel('epoch')\n",
    "plt.legend(['train'], loc = 'upper left')\n",
    "plt.show()"
   ]
  },
  {
   "cell_type": "code",
   "execution_count": 16,
   "id": "1c1ece64-1929-483d-bf51-6d514e3f9126",
   "metadata": {},
   "outputs": [
    {
     "data": {
      "text/plain": [
       "(119, 60, 1)"
      ]
     },
     "execution_count": 16,
     "metadata": {},
     "output_type": "execute_result"
    }
   ],
   "source": [
    "test_data = pd.read_csv('test.csv')\n",
    "test_data[\"Close\"] = pd.to_numeric(test_data.Close, errors = 'coerce')\n",
    "test_data = test_data.dropna()\n",
    "test_data = test_data.iloc[:,4:5]\n",
    "y_test = test_data.iloc[60:,0:].values\n",
    "\n",
    "#input array for the model\n",
    "input_closing = test_data.iloc[:,0:].values\n",
    "input_closing_scaled = sc.transform(input_closing)\n",
    "input_closing_scaled.shape\n",
    "x_test = []\n",
    "length = len(test_data)\n",
    "time_step = 60\n",
    "for i in range (time_step, length):\n",
    "    x_test.append(input_closing_scaled[i-time_step:i,0])\n",
    "x_test = np.array(x_test)\n",
    "x_test = np.reshape(x_test,(x_test.shape[0],x_test.shape[1],1))\n",
    "x_test.shape"
   ]
  },
  {
   "cell_type": "code",
   "execution_count": 17,
   "id": "f3b1af56-cae6-421f-8179-10ff1731b14f",
   "metadata": {},
   "outputs": [
    {
     "name": "stdout",
     "output_type": "stream",
     "text": [
      "4/4 [==============================] - 3s 58ms/step\n"
     ]
    }
   ],
   "source": [
    "y_pred = model.predict(x_test)"
   ]
  },
  {
   "cell_type": "code",
   "execution_count": 18,
   "id": "31581c7b-4755-45c8-b0af-bed9aae4bc36",
   "metadata": {},
   "outputs": [],
   "source": [
    "predicted_price = sc.inverse_transform(y_pred)"
   ]
  },
  {
   "cell_type": "code",
   "execution_count": 19,
   "id": "82aeaf3e-4984-4ba9-9e0b-485ab844f2a1",
   "metadata": {},
   "outputs": [
    {
     "data": {
      "image/png": "[encoded data removed]",
      "text/plain": [
       "<Figure size 640x480 with 1 Axes>"
      ]
     },
     "metadata": {},
     "output_type": "display_data"
    }
   ],
   "source": [
    "plt.plot(y_test, color = 'red', label = 'Actual Stock Price')\n",
    "plt.plot(predicted_price, color = 'green', label = 'Predicted Stock Price')\n",
    "plt.title('SOLARINDS stock price prediction')\n",
    "plt.xlabel('Time')\n",
    "plt.ylabel('Stock Price')\n",
    "plt.legend()\n",
    "plt.show()"
   ]
  },
  {
   "cell_type": "code",
   "execution_count": 20,
   "id": "84ca2bf4-b69d-4357-bb25-11eb9a208420",
   "metadata": {},
   "outputs": [
    {
     "name": "stdout",
     "output_type": "stream",
     "text": [
      "Mean Squared Error (MSE): 538641.0279880879\n"
     ]
    }
   ],
   "source": [
    "from sklearn.metrics import mean_squared_error\n",
    "\n",
    "# Assuming y_test and predicted_price have the same shape\n",
    "mse = mean_squared_error(y_test, predicted_price)\n",
    "\n",
    "print(f\"Mean Squared Error (MSE): {mse}\")"
   ]
  },
  {
   "cell_type": "code",
   "execution_count": null,
   "id": "1883f1e9-f777-4b9f-aaf2-7cafd746d800",
   "metadata": {},
   "outputs": [],
   "source": []
  }
 ],
 "metadata": {
  "kernelspec": {
   "display_name": "Python 3 (ipykernel)",
   "language": "python",
   "name": "python3"
  },
  "language_info": {
   "codemirror_mode": {
    "name": "ipython",
    "version": 3
   },
   "file_extension": ".py",
   "mimetype": "text/x-python",
   "name": "python",
   "nbconvert_exporter": "python",
   "pygments_lexer": "ipython3",
   "version": "3.10.13"
  }
 },
 "nbformat": 4,
 "nbformat_minor": 5
}
